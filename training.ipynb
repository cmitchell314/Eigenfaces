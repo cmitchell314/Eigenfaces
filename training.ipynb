{
 "cells": [
  {
   "cell_type": "code",
   "execution_count": 22,
   "metadata": {},
   "outputs": [],
   "source": [
    "import math\n",
    "import random\n",
    "import numpy as np\n",
    "import pandas as pd\n",
    "from matplotlib import pyplot as plt \n",
    "import os \n",
    "\n",
    "# import subset of images from the training dataset\n",
    "path = './Dataset/Training/'\n",
    "expressions = ['Angry', 'Fear', 'Happy', 'Neutral', 'Sad', 'Surprise']\n",
    "samp_per_exp = 1000 # number of samples per expression - increase later \n",
    "i = 0\n",
    "\n",
    "raw_train = []\n",
    "\n",
    "# open the first samp_size images in path directory\n",
    "for exp in expressions:\n",
    "    for file in os.listdir(path + exp + '/')[:samp_per_exp]:\n",
    "        if file.endswith('.jpg'):\n",
    "            img = plt.imread(path + exp + '/' + file)\n",
    "            # convert to numpy vector\n",
    "            img = img.flatten()\n",
    "            raw_train.append(img)\n",
    "            # print(img.shape)\n"
   ]
  },
  {
   "cell_type": "code",
   "execution_count": 23,
   "metadata": {},
   "outputs": [
    {
     "name": "stdout",
     "output_type": "stream",
     "text": [
      "[[152 149 147 ... 193 181 183]\n",
      " [117 116 114 ...  45  47  50]\n",
      " [159 159 145 ... 140 148 126]\n",
      " ...\n",
      " [ 46  67 101 ... 254 255 255]\n",
      " [225 218 237 ...  92  95  95]\n",
      " [240 254 255 ...  35  32  30]]\n",
      "(6000, 2304)\n",
      "[122.52583333 119.3205     116.23983333 ... 113.06666667 113.60816667\n",
      " 114.25466667]\n",
      "[[ 29.47416667  29.6795      30.76016667 ...  79.93333333  67.39183333\n",
      "   68.74533333]\n",
      " [ -5.52583333  -3.3205      -2.23983333 ... -68.06666667 -66.60816667\n",
      "  -64.25466667]\n",
      " [ 36.47416667  39.6795      28.76016667 ...  26.93333333  34.39183333\n",
      "   11.74533333]\n",
      " ...\n",
      " [-76.52583333 -52.3205     -15.23983333 ... 140.93333333 141.39183333\n",
      "  140.74533333]\n",
      " [102.47416667  98.6795     120.76016667 ... -21.06666667 -18.60816667\n",
      "  -19.25466667]\n",
      " [117.47416667 134.6795     138.76016667 ... -78.06666667 -81.60816667\n",
      "  -84.25466667]]\n",
      "(6000, 2304)\n"
     ]
    }
   ],
   "source": [
    "# vectorize training images\n",
    "train = np.array(raw_train)\n",
    "print(train)\n",
    "print(train.shape)\n",
    "\n",
    "# determine mean intensity of each pixel\n",
    "mean = np.mean(train, axis=0)\n",
    "print(mean)\n",
    "\n",
    "# mean center pixel intensities\n",
    "train = train - mean\n",
    "print(train)\n",
    "print(train.shape)\n",
    "\n"
   ]
  },
  {
   "cell_type": "code",
   "execution_count": 24,
   "metadata": {},
   "outputs": [
    {
     "name": "stdout",
     "output_type": "stream",
     "text": [
      "[[6887.17352823 6447.02514127 5803.37361657 ... 1376.53203312\n",
      "  1457.21190768 1514.24946269]\n",
      " [6447.02514127 6608.60721429 6175.97446249 ... 1333.63007168\n",
      "  1421.75037431 1464.05205468]\n",
      " [5803.37361657 6175.97446249 6432.69076177 ... 1322.84781908\n",
      "  1407.54039809 1433.6555317 ]\n",
      " ...\n",
      " [1376.53203312 1333.63007168 1322.84781908 ... 5972.2752681\n",
      "  5716.27416792 5360.02652664]\n",
      " [1457.21190768 1421.75037431 1407.54039809 ... 5716.27416792\n",
      "  6075.19583261 5852.64822826]\n",
      " [1514.24946269 1464.05205468 1433.6555317  ... 5360.02652664\n",
      "  5852.64822826 6181.23335045]]\n",
      "(2304, 2304)\n"
     ]
    }
   ],
   "source": [
    "# compute covariance matrix\n",
    "cov = np.cov(train, rowvar=False)\n",
    "print(cov)\n",
    "print(cov.shape)"
   ]
  },
  {
   "cell_type": "code",
   "execution_count": 29,
   "metadata": {},
   "outputs": [
    {
     "name": "stdout",
     "output_type": "stream",
     "text": [
      "2304\n",
      "[2700151.8435294144, 901118.8454053543, 868397.4833179364, 510518.73389615846, 277292.8682957908, 236422.9073442376, 197138.78609777289, 183357.1480804222, 168494.7503912688, 140579.82945811408, 110114.67411841018, 101029.20485406219, 97675.71511810125, 93343.08327751681, 88917.09953422827, 76169.0271506033, 74304.2126820279, 60762.87188765108, 51421.136187642056, 49813.93457035172, 48494.33039837433, 46952.774035385824, 45654.53470429665, 43542.477716161775, 41633.511055159724, 39037.565568478494, 38023.919766735235, 35200.79419393189, 33262.79783292695, 32583.2421736768]\n"
     ]
    }
   ],
   "source": [
    "# eigenvalue decomposition to get eigenvectors and eigenvalues\n",
    "\n",
    "e_vals, e_vecs = np.linalg.eig(cov)\n",
    "\n",
    "e_val_vec = []\n",
    "for i in range(len(e_vals)):\n",
    "    e_val_vec.append([e_vals[i].real, e_vecs[i]])\n",
    "\n",
    "# sort eigenvalues by magnitude\n",
    "\n",
    "e_val_vec.sort(key=lambda x: abs(x[0]), reverse=True)\n",
    "\n",
    "print(len(e_val_vec))\n",
    "\n",
    "print([val[0] for val in e_val_vec[:30]])\n",
    "\n",
    "# greatest_imag_val = 0\n",
    "# greatest_imag_vec = 0\n",
    "# greatest_real_val = 0\n",
    "# greatest_real_vec = 0\n",
    "\n",
    "# for i in range(len(e_vals)):\n",
    "#     if abs(e_vals[i].imag) > greatest_imag_val:\n",
    "#         greatest_imag_val = abs(e_vals[i].imag)\n",
    "    \n",
    "#     for x in e_vecs[i].flatten():\n",
    "#         if abs(x.imag) > greatest_imag_vec:\n",
    "#             greatest_imag_vec = abs(x.imag)\n",
    "\n",
    "#     if abs(e_vals[i].real) > greatest_real_val:\n",
    "#         greatest_real_val = abs(e_vals[i].real)\n",
    "\n",
    "#     for x in e_vecs[i].flatten():\n",
    "#         if abs(x.real) > greatest_real_vec:\n",
    "#             greatest_real_vec = abs(x.real)\n",
    "\n",
    "# print(greatest_imag_val)\n",
    "# print(greatest_imag_vec)\n",
    "# print(greatest_real_val)\n",
    "# print(greatest_real_vec)\n",
    "\n",
    "\n",
    "\n",
    "\n",
    "# for i in range(len(eig_vals)):\n",
    "#     print('Eigenvalue: ', eig_vals[i], ' Eigenvector: ', eig_vecs[i])\n"
   ]
  },
  {
   "cell_type": "code",
   "execution_count": 1,
   "metadata": {},
   "outputs": [],
   "source": [
    "# use the n eigenvectors with greatest eigenvalues to form new basis\n",
    "n = 200\n",
    "sig_e_vecs = np.array([x[1] for x in e_val_vec[:n]])\n",
    "\n",
    "\n",
    "\n",
    "# project training images onto new basis\n",
    "proj_train = np.matmul(train, sig_e_vecs.T)\n",
    "\n"
   ]
  },
  {
   "cell_type": "code",
   "execution_count": null,
   "metadata": {},
   "outputs": [],
   "source": []
  }
 ],
 "metadata": {
  "kernelspec": {
   "display_name": "Python 3",
   "language": "python",
   "name": "python3"
  },
  "language_info": {
   "codemirror_mode": {
    "name": "ipython",
    "version": 3
   },
   "file_extension": ".py",
   "mimetype": "text/x-python",
   "name": "python",
   "nbconvert_exporter": "python",
   "pygments_lexer": "ipython3",
   "version": "3.9.1"
  }
 },
 "nbformat": 4,
 "nbformat_minor": 2
}
